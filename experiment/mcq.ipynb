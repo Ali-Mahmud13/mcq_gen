{
 "cells": [
  {
   "cell_type": "code",
   "execution_count": 2,
   "id": "651a834e",
   "metadata": {},
   "outputs": [],
   "source": [
    "import os\n",
    "import json\n",
    "import pandas as pd\n",
    "import traceback"
   ]
  },
  {
   "cell_type": "code",
   "execution_count": 5,
   "id": "bdb2521a",
   "metadata": {},
   "outputs": [],
   "source": [
    "from langchain_openai import ChatOpenAI"
   ]
  },
  {
   "cell_type": "code",
   "execution_count": 6,
   "id": "4e6ebfad",
   "metadata": {},
   "outputs": [
    {
     "data": {
      "text/plain": [
       "True"
      ]
     },
     "execution_count": 6,
     "metadata": {},
     "output_type": "execute_result"
    }
   ],
   "source": [
    "from dotenv import load_dotenv\n",
    "load_dotenv() # Load environment variables from .env file"
   ]
  },
  {
   "cell_type": "code",
   "execution_count": 7,
   "id": "04e7b18f",
   "metadata": {},
   "outputs": [],
   "source": [
    "llm = ChatOpenAI(model=\"gpt-4o\", temperature=0.0, max_tokens=1000, api_key=os.getenv(\"OPENAI_API_KEY\"))"
   ]
  },
  {
   "cell_type": "code",
   "execution_count": 10,
   "id": "a369a734",
   "metadata": {},
   "outputs": [],
   "source": [
    "from langchain_openai import OpenAI\n",
    "from langchain.prompts import PromptTemplate\n",
    "from langchain.chains import LLMChain\n",
    "from langchain.chains import SequentialChain\n",
    "from langchain.callbacks import get_openai_callback\n",
    "import PyPDF2\n",
    "\n",
    "\n"
   ]
  },
  {
   "cell_type": "code",
   "execution_count": 11,
   "id": "b7d67865",
   "metadata": {},
   "outputs": [],
   "source": [
    "response_json= {\n",
    "    \"1\":{\n",
    "        \"mcq\": \"multiple choice questiom\",\n",
    "        \"options\": {\n",
    "            \"a\": \"choice here\",\n",
    "            \"b\": \"choice here\",\n",
    "            \"c\": \"choice here\",\n",
    "            \"d\": \"choice here\"\n",
    "        },\n",
    "        \"correct\": \"correct answer here\"\n",
    "    },\n",
    "     \"2\":{\n",
    "        \"mcq\": \"multiple choice questiom\",\n",
    "        \"options\": {\n",
    "            \"a\": \"choice here\",\n",
    "            \"b\": \"choice here\",\n",
    "            \"c\": \"choice here\",\n",
    "            \"d\": \"choice here\"\n",
    "        },\n",
    "        \"correct\": \"correct answer here\"\n",
    "\n",
    "    },\n",
    "     \"3\":{\n",
    "        \"mcq\": \"multiple choice questiom\",\n",
    "        \"options\": {\n",
    "            \"a\": \"choice here\",\n",
    "            \"b\": \"choice here\",\n",
    "            \"c\": \"choice here\",\n",
    "            \"d\": \"choice here\"\n",
    "        },\n",
    "        \"correct\": \"correct answer here\"\n",
    "\n",
    "    }\n",
    "}\n",
    "\n",
    "TEMPLATE= \"\"\"text: {text}\n",
    "You are an expert MCQ generator. Given the  above text, it is your job to create a quiz of {number} multiple \\\n",
    "     choice questions for {subject} students in {tone} tone.\n",
    "     Make sure the questions are not repeated and check all the questions to be confirming to text as well.\n",
    "     Make sure to format your response like RESPONSE_JSON below and use it as a guide. \\\n",
    "    Ensure to make {number} questions.\n",
    "    ### RESPONSE_JSON\n",
    "    # {response_json}\n",
    "    ### END_RESPONSE_JSON\"\"\""
   ]
  },
  {
   "cell_type": "code",
   "execution_count": 12,
   "id": "89af20d5",
   "metadata": {},
   "outputs": [],
   "source": [
    "quiz_generation_prompt = PromptTemplate(\n",
    "    input_variables=['text','number','subject','tone','response_json'],\n",
    "    template= TEMPLATE\n",
    ")"
   ]
  },
  {
   "cell_type": "code",
   "execution_count": 13,
   "id": "0ef43ea1",
   "metadata": {},
   "outputs": [
    {
     "name": "stderr",
     "output_type": "stream",
     "text": [
      "/var/folders/nq/9bf8jjjn7nvc7d7_v7j998zc0000gn/T/ipykernel_7426/2153818086.py:1: LangChainDeprecationWarning: The class `LLMChain` was deprecated in LangChain 0.1.17 and will be removed in 1.0. Use RunnableSequence, e.g., `prompt | llm` instead.\n",
      "  quiz_chain = LLMChain(llm=llm, prompt= quiz_generation_prompt, output_key=\"quiz\", verbose=True)\n"
     ]
    }
   ],
   "source": [
    "quiz_chain = LLMChain(llm=llm, prompt= quiz_generation_prompt, output_key=\"quiz\", verbose=True)\n"
   ]
  },
  {
   "cell_type": "code",
   "execution_count": 15,
   "id": "33c7569c",
   "metadata": {},
   "outputs": [],
   "source": [
    "TEMPLATE2=\"\"\"You are an expert english grammarian and writer. Given a Multiple choice quiz for {subject} students. \\\n",
    "     You need to evaluate the complexity of the question and give a complete analysis of the quiz. Only use around 50 words for complexity \\\n",
    "     if the quiz is not at per the cognitive and analytical abilties of the students,\\\n",
    "     update the quiz questions, which need to be changed and change the tone such that it perfectly fits the student's abilties.\n",
    "     Quiz MCQs:\n",
    "     {quiz}\n",
    "\n",
    "     Check from an expert english writer of the above quiz:\n",
    "          \"\"\""
   ]
  },
  {
   "cell_type": "code",
   "execution_count": 16,
   "id": "42d1af54",
   "metadata": {},
   "outputs": [],
   "source": [
    "quiz_evaluation_prompt = PromptTemplate(input_variables=[\"subject\", \"quiz\"], template=TEMPLATE2)"
   ]
  },
  {
   "cell_type": "code",
   "execution_count": 17,
   "id": "d2b9ef6b",
   "metadata": {},
   "outputs": [],
   "source": [
    "review_chain = LLMChain(llm=llm, prompt=quiz_evaluation_prompt, output_key=\"review\", verbose=True)"
   ]
  },
  {
   "cell_type": "code",
   "execution_count": 21,
   "id": "715b0d2e",
   "metadata": {},
   "outputs": [],
   "source": [
    "generate_evaluate_chain = SequentialChain(\n",
    "    chains=[quiz_chain, review_chain],\n",
    "    input_variables=[\"text\", \"number\", \"subject\", \"tone\", \"response_json\"],\n",
    "    output_variables=[\"quiz\", \"review\"],    \n",
    "    verbose=True)"
   ]
  },
  {
   "cell_type": "code",
   "execution_count": 20,
   "id": "fdb42398",
   "metadata": {},
   "outputs": [],
   "source": [
    "file_path =r\"/Users/abdullahmahmud/Desktop/Ali_Work/GenAI Course/mcq_gen/data.txt\"\n",
    "with open(file_path, 'r') as file:\n",
    "    TEXT = file.read()"
   ]
  },
  {
   "cell_type": "code",
   "execution_count": 23,
   "id": "362eddf8",
   "metadata": {},
   "outputs": [],
   "source": [
    "NUMBER = 3\n",
    "SUBJECT = \"Machine Learning\"\n",
    "TONE = \"simple\"\n"
   ]
  },
  {
   "cell_type": "code",
   "execution_count": 24,
   "id": "a86d0ca6",
   "metadata": {},
   "outputs": [
    {
     "name": "stderr",
     "output_type": "stream",
     "text": [
      "/var/folders/nq/9bf8jjjn7nvc7d7_v7j998zc0000gn/T/ipykernel_7426/3357549021.py:2: LangChainDeprecationWarning: The method `Chain.__call__` was deprecated in langchain 0.1.0 and will be removed in 1.0. Use invoke instead.\n",
      "  response= generate_evaluate_chain(\n",
      "Error in StdOutCallbackHandler.on_chain_start callback: AttributeError(\"'NoneType' object has no attribute 'get'\")\n",
      "Error in StdOutCallbackHandler.on_chain_start callback: AttributeError(\"'NoneType' object has no attribute 'get'\")\n"
     ]
    },
    {
     "name": "stdout",
     "output_type": "stream",
     "text": [
      "Prompt after formatting:\n",
      "\u001b[32;1m\u001b[1;3mtext: Machine learning (ML) is a field of study in artificial intelligence concerned with the development and study of statistical algorithms that can learn from data and generalise to unseen data, and thus perform tasks without explicit instructions.[1] Within a subdiscipline in machine learning, advances in the field of deep learning have allowed neural networks, a class of statistical algorithms, to surpass many previous machine learning approaches in performance.[2]\n",
      "\n",
      "ML finds application in many fields, including natural language processing, computer vision, speech recognition, email filtering, agriculture, and medicine.[3][4] The application of ML to business problems is known as predictive analytics.\n",
      "\n",
      "Statistics and mathematical optimisation (mathematical programming) methods comprise the foundations of machine learning. Data mining is a related field of study, focusing on exploratory data analysis (EDA) via unsupervised learning.[6][7]\n",
      "\n",
      "From a theoretical viewpoint, probably approximately correct learning provides a framework for describing machine learning.\n",
      "\n",
      "History\n",
      "See also: Timeline of machine learning\n",
      "The term machine learning was coined in 1959 by Arthur Samuel, an IBM employee and pioneer in the field of computer gaming and artificial intelligence.[8][9] The synonym self-teaching computers was also used in this time period.[10][11]\n",
      "\n",
      "The earliest machine learning program was introduced in the 1950s when Arthur Samuel invented a computer program that calculated the winning chance in checkers for each side, but the history of machine learning roots back to decades of human desire and effort to study human cognitive processes.[12] In 1949, Canadian psychologist Donald Hebb published the book The Organization of Behavior, in which he introduced a theoretical neural structure formed by certain interactions among nerve cells.[13] Hebb's model of neurons interacting with one another set a groundwork for how AIs and machine learning algorithms work under nodes, or artificial neurons used by computers to communicate data.[12] Other researchers who have studied human cognitive systems contributed to the modern machine learning technologies as well, including logician Walter Pitts and Warren McCulloch, who proposed the early mathematical models of neural networks to come up with algorithms that mirror human thought processes.[12]\n",
      "\n",
      "By the early 1960s, an experimental \"learning machine\" with punched tape memory, called Cybertron, had been developed by Raytheon Company to analyse sonar signals, electrocardiograms, and speech patterns using rudimentary reinforcement learning. It was repetitively \"trained\" by a human operator/teacher to recognise patterns and equipped with a \"goof\" button to cause it to reevaluate incorrect decisions.[14] A representative book on research into machine learning during the 1960s was Nilsson's book on Learning Machines, dealing mostly with machine learning for pattern classification.[15] Interest related to pattern recognition continued into the 1970s, as described by Duda and Hart in 1973.[16] In 1981 a report was given on using teaching strategies so that an artificial neural network learns to recognise 40 characters (26 letters, 10 digits, and 4 special symbols) from a computer terminal.[17]\n",
      "\n",
      "Tom M. Mitchell provided a widely quoted, more formal definition of the algorithms studied in the machine learning field: \"A computer program is said to learn from experience E with respect to some class of tasks T and performance measure P if its performance at tasks in T, as measured by P, improves with experience E.\"[18] This definition of the tasks in which machine learning is concerned offers a fundamentally operational definition rather than defining the field in cognitive terms. This follows Alan Turing's proposal in his paper \"Computing Machinery and Intelligence\", in which the question \"Can machines think?\" is replaced with the question \"Can machines do what we (as thinking entities) can do?\".[19]\n",
      "\n",
      "Modern-day machine learning has two objectives. One is to classify data based on models which have been developed; the other purpose is to make predictions for future outcomes based on these models. A hypothetical algorithm specific to classifying data may use computer vision of moles coupled with supervised learning in order to train it to classify the cancerous moles. A machine learning algorithm for stock trading may inform the trader of future potential predictions.[20]\n",
      "\n",
      "Relationships to other fields\n",
      "Artificial intelligence\n",
      "\n",
      "Deep learning is a subset of machine learning, which is itself a subset of artificial intelligence.[21]\n",
      "As a scientific endeavour, machine learning grew out of the quest for artificial intelligence (AI). In the early days of AI as an academic discipline, some researchers were interested in having machines learn from data. They attempted to approach the problem with various symbolic methods, as well as what were then termed \"neural networks\"; these were mostly perceptrons and other models that were later found to be reinventions of the generalised linear models of statistics.[22] Probabilistic reasoning was also employed, especially in automated medical diagnosis.[23]: 488 \n",
      "\n",
      "However, an increasing emphasis on the logical, knowledge-based approach caused a rift between AI and machine learning. Probabilistic systems were plagued by theoretical and practical problems of data acquisition and representation.[23]: 488  By 1980, expert systems had come to dominate AI, and statistics was out of favour.[24] Work on symbolic/knowledge-based learning did continue within AI, leading to inductive logic programming(ILP), but the more statistical line of research was now outside the field of AI proper, in pattern recognition and information retrieval.[23]: 708–710, 755  Neural networks research had been abandoned by AI and computer science around the same time. This line, too, was continued outside the AI/CS field, as \"connectionism\", by researchers from other disciplines including John Hopfield, David Rumelhart, and Geoffrey Hinton. Their main success came in the mid-1980s with the reinvention of backpropagation.[23]: 25 \n",
      "\n",
      "Machine learning (ML), reorganised and recognised as its own field, started to flourish in the 1990s. The field changed its goal from achieving artificial intelligence to tackling solvable problems of a practical nature. It shifted focus away from the symbolic approaches it had inherited from AI, and toward methods and models borrowed from statistics, fuzzy logic, and probability theory.[24]\n",
      "\n",
      "Data compression\n",
      "This section is an excerpt from Data compression § Machine learning.[edit]\n",
      "There is a close connection between machine learning and compression. A system that predicts the posterior probabilities of a sequence given its entire history can be used for optimal data compression (by using arithmetic coding on the output distribution). Conversely, an optimal compressor can be used for prediction (by finding the symbol that compresses best, given the previous history). This equivalence has been used as a justification for using data compression as a benchmark for \"general intelligence\".[25][26][27]\n",
      "\n",
      "An alternative view can show compression algorithms implicitly map strings into implicit feature space vectors, and compression-based similarity measures compute similarity within these feature spaces. For each compressor C(.) we define an associated vector space ℵ, such that C(.) maps an input string x, corresponding to the vector norm ||~x||. An exhaustive examination of the feature spaces underlying all compression algorithms is precluded by space; instead, feature vectors chooses to examine three representative lossless compression methods, LZW, LZ77, and PPM.[28]\n",
      "\n",
      "According to AIXI theory, a connection more directly explained in Hutter Prize, the best possible compression of x is the smallest possible software that generates x. For example, in that model, a zip file's compressed size includes both the zip file and the unzipping software, since you can not unzip it without both, but there may be an even smaller combined form.\n",
      "\n",
      "Examples of AI-powered audio/video compression software include NVIDIA Maxine, AIVC.[29] Examples of software that can perform AI-powered image compression include OpenCV, TensorFlow, MATLAB's Image Processing Toolbox (IPT) and High-Fidelity Generative Image Compression.[30]\n",
      "\n",
      "In unsupervised machine learning, k-means clustering can be utilized to compress data by grouping similar data points into clusters. This technique simplifies handling extensive datasets that lack predefined labels and finds widespread use in fields such as image compression.[31]\n",
      "\n",
      "Data compression aims to reduce the size of data files, enhancing storage efficiency and speeding up data transmission. K-means clustering, an unsupervised machine learning algorithm, is employed to partition a dataset into a specified number of clusters, k, each represented by the centroid of its points. This process condenses extensive datasets into a more compact set of representative points. Particularly beneficial in image and signal processing, k-means clustering aids in data reduction by replacing groups of data points with their centroids, thereby preserving the core information of the original data while significantly decreasing the required storage space.[32]\n",
      "\n",
      "Large language models (LLMs) are also efficient lossless data compressors on some data sets, as demonstrated by DeepMind's research with the Chinchilla 70B model. Developed by DeepMind, Chinchilla 70B effectively compressed data, outperforming conventional methods such as Portable Network Graphics (PNG) for images and Free Lossless Audio Codec (FLAC) for audio. It achieved compression of image and audio data to 43.4% and 16.4% of their original sizes, respectively. There is, however, some reason to be concerned that the data set used for testing overlaps the LLM training data set, making it possible that the Chinchilla 70B model is only an efficient compression tool on data it has already been trained on.[33][34]\n",
      "\n",
      "You are an expert MCQ generator. Given the  above text, it is your job to create a quiz of 3 multiple      choice questions for Machine Learning students in simple tone.\n",
      "     Make sure the questions are not repeated and check all the questions to be confirming to text as well.\n",
      "     Make sure to format your response like RESPONSE_JSON below and use it as a guide.     Ensure to make 3 questions.\n",
      "    ### RESPONSE_JSON\n",
      "    # {\"1\": {\"mcq\": \"multiple choice questiom\", \"options\": {\"a\": \"choice here\", \"b\": \"choice here\", \"c\": \"choice here\", \"d\": \"choice here\"}, \"correct\": \"correct answer here\"}, \"2\": {\"mcq\": \"multiple choice questiom\", \"options\": {\"a\": \"choice here\", \"b\": \"choice here\", \"c\": \"choice here\", \"d\": \"choice here\"}, \"correct\": \"correct answer here\"}, \"3\": {\"mcq\": \"multiple choice questiom\", \"options\": {\"a\": \"choice here\", \"b\": \"choice here\", \"c\": \"choice here\", \"d\": \"choice here\"}, \"correct\": \"correct answer here\"}}\n",
      "    ### END_RESPONSE_JSON\u001b[0m\n"
     ]
    },
    {
     "name": "stderr",
     "output_type": "stream",
     "text": [
      "Error in StdOutCallbackHandler.on_chain_start callback: AttributeError(\"'NoneType' object has no attribute 'get'\")\n"
     ]
    },
    {
     "name": "stdout",
     "output_type": "stream",
     "text": [
      "\n",
      "\u001b[1m> Finished chain.\u001b[0m\n",
      "Prompt after formatting:\n",
      "\u001b[32;1m\u001b[1;3mYou are an expert english grammarian and writer. Given a Multiple choice quiz for Machine Learning students.      You need to evaluate the complexity of the question and give a complete analysis of the quiz. Only use around 50 words for complexity      if the quiz is not at per the cognitive and analytical abilties of the students,     update the quiz questions, which need to be changed and change the tone such that it perfectly fits the student's abilties.\n",
      "     Quiz MCQs:\n",
      "     ```json\n",
      "{\n",
      "    \"1\": {\n",
      "        \"mcq\": \"What is the primary focus of machine learning?\",\n",
      "        \"options\": {\n",
      "            \"a\": \"To create symbolic AI systems\",\n",
      "            \"b\": \"To develop statistical algorithms that learn from data\",\n",
      "            \"c\": \"To replace human intelligence\",\n",
      "            \"d\": \"To build expert systems\"\n",
      "        },\n",
      "        \"correct\": \"b\"\n",
      "    },\n",
      "    \"2\": {\n",
      "        \"mcq\": \"Who coined the term 'machine learning'?\",\n",
      "        \"options\": {\n",
      "            \"a\": \"Alan Turing\",\n",
      "            \"b\": \"Geoffrey Hinton\",\n",
      "            \"c\": \"Arthur Samuel\",\n",
      "            \"d\": \"Donald Hebb\"\n",
      "        },\n",
      "        \"correct\": \"c\"\n",
      "    },\n",
      "    \"3\": {\n",
      "        \"mcq\": \"Which of the following is a subset of machine learning?\",\n",
      "        \"options\": {\n",
      "            \"a\": \"Artificial intelligence\",\n",
      "            \"b\": \"Deep learning\",\n",
      "            \"c\": \"Data mining\",\n",
      "            \"d\": \"Predictive analytics\"\n",
      "        },\n",
      "        \"correct\": \"b\"\n",
      "    }\n",
      "}\n",
      "```\n",
      "\n",
      "     Check from an expert english writer of the above quiz:\n",
      "          \u001b[0m\n",
      "\n",
      "\u001b[1m> Finished chain.\u001b[0m\n",
      "\n",
      "\u001b[1m> Finished chain.\u001b[0m\n"
     ]
    }
   ],
   "source": [
    "with get_openai_callback() as cb: #for tracking token usage\n",
    "    response= generate_evaluate_chain(\n",
    "        {\n",
    "            \"text\": TEXT,\n",
    "            \"number\": NUMBER,\n",
    "            \"subject\": SUBJECT,\n",
    "            \"tone\": TONE,\n",
    "            \"response_json\": json.dumps(response_json)  # Ensure response_json is a string\n",
    "        }\n",
    "    )"
   ]
  },
  {
   "cell_type": "code",
   "execution_count": 25,
   "id": "83e9557b",
   "metadata": {},
   "outputs": [
    {
     "name": "stdout",
     "output_type": "stream",
     "text": [
      "Token Usage: 3106 \n",
      "Prompt Tokens: 2550\n",
      "Completion Tokens: 556\n",
      "Total Cost: $0.0119\n"
     ]
    }
   ],
   "source": [
    "print(f\"Token Usage: {cb.total_tokens} \")\n",
    "print(f\"Prompt Tokens: {cb.prompt_tokens}\")\n",
    "print(f\"Completion Tokens: {cb.completion_tokens}\")\n",
    "print(f\"Total Cost: ${cb.total_cost:.4f}\")"
   ]
  },
  {
   "cell_type": "code",
   "execution_count": 26,
   "id": "871c20ea",
   "metadata": {},
   "outputs": [
    {
     "data": {
      "text/plain": [
       "{'text': 'Machine learning (ML) is a field of study in artificial intelligence concerned with the development and study of statistical algorithms that can learn from data and generalise to unseen data, and thus perform tasks without explicit instructions.[1] Within a subdiscipline in machine learning, advances in the field of deep learning have allowed neural networks, a class of statistical algorithms, to surpass many previous machine learning approaches in performance.[2]\\n\\nML finds application in many fields, including natural language processing, computer vision, speech recognition, email filtering, agriculture, and medicine.[3][4] The application of ML to business problems is known as predictive analytics.\\n\\nStatistics and mathematical optimisation (mathematical programming) methods comprise the foundations of machine learning. Data mining is a related field of study, focusing on exploratory data analysis (EDA) via unsupervised learning.[6][7]\\n\\nFrom a theoretical viewpoint, probably approximately correct learning provides a framework for describing machine learning.\\n\\nHistory\\nSee also: Timeline of machine learning\\nThe term machine learning was coined in 1959 by Arthur Samuel, an IBM employee and pioneer in the field of computer gaming and artificial intelligence.[8][9] The synonym self-teaching computers was also used in this time period.[10][11]\\n\\nThe earliest machine learning program was introduced in the 1950s when Arthur Samuel invented a computer program that calculated the winning chance in checkers for each side, but the history of machine learning roots back to decades of human desire and effort to study human cognitive processes.[12] In 1949, Canadian psychologist Donald Hebb published the book The Organization of Behavior, in which he introduced a theoretical neural structure formed by certain interactions among nerve cells.[13] Hebb\\'s model of neurons interacting with one another set a groundwork for how AIs and machine learning algorithms work under nodes, or artificial neurons used by computers to communicate data.[12] Other researchers who have studied human cognitive systems contributed to the modern machine learning technologies as well, including logician Walter Pitts and Warren McCulloch, who proposed the early mathematical models of neural networks to come up with algorithms that mirror human thought processes.[12]\\n\\nBy the early 1960s, an experimental \"learning machine\" with punched tape memory, called Cybertron, had been developed by Raytheon Company to analyse sonar signals, electrocardiograms, and speech patterns using rudimentary reinforcement learning. It was repetitively \"trained\" by a human operator/teacher to recognise patterns and equipped with a \"goof\" button to cause it to reevaluate incorrect decisions.[14] A representative book on research into machine learning during the 1960s was Nilsson\\'s book on Learning Machines, dealing mostly with machine learning for pattern classification.[15] Interest related to pattern recognition continued into the 1970s, as described by Duda and Hart in 1973.[16] In 1981 a report was given on using teaching strategies so that an artificial neural network learns to recognise 40 characters (26 letters, 10 digits, and 4 special symbols) from a computer terminal.[17]\\n\\nTom M. Mitchell provided a widely quoted, more formal definition of the algorithms studied in the machine learning field: \"A computer program is said to learn from experience E with respect to some class of tasks T and performance measure P if its performance at tasks in T, as measured by P, improves with experience E.\"[18] This definition of the tasks in which machine learning is concerned offers a fundamentally operational definition rather than defining the field in cognitive terms. This follows Alan Turing\\'s proposal in his paper \"Computing Machinery and Intelligence\", in which the question \"Can machines think?\" is replaced with the question \"Can machines do what we (as thinking entities) can do?\".[19]\\n\\nModern-day machine learning has two objectives. One is to classify data based on models which have been developed; the other purpose is to make predictions for future outcomes based on these models. A hypothetical algorithm specific to classifying data may use computer vision of moles coupled with supervised learning in order to train it to classify the cancerous moles. A machine learning algorithm for stock trading may inform the trader of future potential predictions.[20]\\n\\nRelationships to other fields\\nArtificial intelligence\\n\\nDeep learning is a subset of machine learning, which is itself a subset of artificial intelligence.[21]\\nAs a scientific endeavour, machine learning grew out of the quest for artificial intelligence (AI). In the early days of AI as an academic discipline, some researchers were interested in having machines learn from data. They attempted to approach the problem with various symbolic methods, as well as what were then termed \"neural networks\"; these were mostly perceptrons and other models that were later found to be reinventions of the generalised linear models of statistics.[22] Probabilistic reasoning was also employed, especially in automated medical diagnosis.[23]:\\u200a488\\u200a\\n\\nHowever, an increasing emphasis on the logical, knowledge-based approach caused a rift between AI and machine learning. Probabilistic systems were plagued by theoretical and practical problems of data acquisition and representation.[23]:\\u200a488\\u200a By 1980, expert systems had come to dominate AI, and statistics was out of favour.[24] Work on symbolic/knowledge-based learning did continue within AI, leading to inductive logic programming(ILP), but the more statistical line of research was now outside the field of AI proper, in pattern recognition and information retrieval.[23]:\\u200a708–710,\\u200a755\\u200a Neural networks research had been abandoned by AI and computer science around the same time. This line, too, was continued outside the AI/CS field, as \"connectionism\", by researchers from other disciplines including John Hopfield, David Rumelhart, and Geoffrey Hinton. Their main success came in the mid-1980s with the reinvention of backpropagation.[23]:\\u200a25\\u200a\\n\\nMachine learning (ML), reorganised and recognised as its own field, started to flourish in the 1990s. The field changed its goal from achieving artificial intelligence to tackling solvable problems of a practical nature. It shifted focus away from the symbolic approaches it had inherited from AI, and toward methods and models borrowed from statistics, fuzzy logic, and probability theory.[24]\\n\\nData compression\\nThis section is an excerpt from Data compression § Machine learning.[edit]\\nThere is a close connection between machine learning and compression. A system that predicts the posterior probabilities of a sequence given its entire history can be used for optimal data compression (by using arithmetic coding on the output distribution). Conversely, an optimal compressor can be used for prediction (by finding the symbol that compresses best, given the previous history). This equivalence has been used as a justification for using data compression as a benchmark for \"general intelligence\".[25][26][27]\\n\\nAn alternative view can show compression algorithms implicitly map strings into implicit feature space vectors, and compression-based similarity measures compute similarity within these feature spaces. For each compressor C(.) we define an associated vector space ℵ, such that C(.) maps an input string x, corresponding to the vector norm ||~x||. An exhaustive examination of the feature spaces underlying all compression algorithms is precluded by space; instead, feature vectors chooses to examine three representative lossless compression methods, LZW, LZ77, and PPM.[28]\\n\\nAccording to AIXI theory, a connection more directly explained in Hutter Prize, the best possible compression of x is the smallest possible software that generates x. For example, in that model, a zip file\\'s compressed size includes both the zip file and the unzipping software, since you can not unzip it without both, but there may be an even smaller combined form.\\n\\nExamples of AI-powered audio/video compression software include NVIDIA Maxine, AIVC.[29] Examples of software that can perform AI-powered image compression include OpenCV, TensorFlow, MATLAB\\'s Image Processing Toolbox (IPT) and High-Fidelity Generative Image Compression.[30]\\n\\nIn unsupervised machine learning, k-means clustering can be utilized to compress data by grouping similar data points into clusters. This technique simplifies handling extensive datasets that lack predefined labels and finds widespread use in fields such as image compression.[31]\\n\\nData compression aims to reduce the size of data files, enhancing storage efficiency and speeding up data transmission. K-means clustering, an unsupervised machine learning algorithm, is employed to partition a dataset into a specified number of clusters, k, each represented by the centroid of its points. This process condenses extensive datasets into a more compact set of representative points. Particularly beneficial in image and signal processing, k-means clustering aids in data reduction by replacing groups of data points with their centroids, thereby preserving the core information of the original data while significantly decreasing the required storage space.[32]\\n\\nLarge language models (LLMs) are also efficient lossless data compressors on some data sets, as demonstrated by DeepMind\\'s research with the Chinchilla 70B model. Developed by DeepMind, Chinchilla 70B effectively compressed data, outperforming conventional methods such as Portable Network Graphics (PNG) for images and Free Lossless Audio Codec (FLAC) for audio. It achieved compression of image and audio data to 43.4% and 16.4% of their original sizes, respectively. There is, however, some reason to be concerned that the data set used for testing overlaps the LLM training data set, making it possible that the Chinchilla 70B model is only an efficient compression tool on data it has already been trained on.[33][34]\\n',\n",
       " 'number': 3,\n",
       " 'subject': 'Machine Learning',\n",
       " 'tone': 'simple',\n",
       " 'response_json': '{\"1\": {\"mcq\": \"multiple choice questiom\", \"options\": {\"a\": \"choice here\", \"b\": \"choice here\", \"c\": \"choice here\", \"d\": \"choice here\"}, \"correct\": \"correct answer here\"}, \"2\": {\"mcq\": \"multiple choice questiom\", \"options\": {\"a\": \"choice here\", \"b\": \"choice here\", \"c\": \"choice here\", \"d\": \"choice here\"}, \"correct\": \"correct answer here\"}, \"3\": {\"mcq\": \"multiple choice questiom\", \"options\": {\"a\": \"choice here\", \"b\": \"choice here\", \"c\": \"choice here\", \"d\": \"choice here\"}, \"correct\": \"correct answer here\"}}',\n",
       " 'quiz': '```json\\n{\\n    \"1\": {\\n        \"mcq\": \"What is the primary focus of machine learning?\",\\n        \"options\": {\\n            \"a\": \"To create symbolic AI systems\",\\n            \"b\": \"To develop statistical algorithms that learn from data\",\\n            \"c\": \"To replace human intelligence\",\\n            \"d\": \"To build expert systems\"\\n        },\\n        \"correct\": \"b\"\\n    },\\n    \"2\": {\\n        \"mcq\": \"Who coined the term \\'machine learning\\'?\",\\n        \"options\": {\\n            \"a\": \"Alan Turing\",\\n            \"b\": \"Geoffrey Hinton\",\\n            \"c\": \"Arthur Samuel\",\\n            \"d\": \"Donald Hebb\"\\n        },\\n        \"correct\": \"c\"\\n    },\\n    \"3\": {\\n        \"mcq\": \"Which of the following is a subset of machine learning?\",\\n        \"options\": {\\n            \"a\": \"Artificial intelligence\",\\n            \"b\": \"Deep learning\",\\n            \"c\": \"Data mining\",\\n            \"d\": \"Predictive analytics\"\\n        },\\n        \"correct\": \"b\"\\n    }\\n}\\n```',\n",
       " 'review': '**Complexity Analysis:**\\n\\nThe quiz is generally appropriate for machine learning students, focusing on foundational knowledge. However, Question 2 may be challenging due to the historical nature of the content, which might not be as familiar to all students. The other questions are straightforward and align well with the expected cognitive and analytical abilities of the students.\\n\\n**Updated Quiz:**\\n\\n```json\\n{\\n    \"1\": {\\n        \"mcq\": \"What is the primary focus of machine learning?\",\\n        \"options\": {\\n            \"a\": \"To create symbolic AI systems\",\\n            \"b\": \"To develop statistical algorithms that learn from data\",\\n            \"c\": \"To replace human intelligence\",\\n            \"d\": \"To build expert systems\"\\n        },\\n        \"correct\": \"b\"\\n    },\\n    \"2\": {\\n        \"mcq\": \"Who is known for pioneering work in machine learning?\",\\n        \"options\": {\\n            \"a\": \"Alan Turing\",\\n            \"b\": \"Geoffrey Hinton\",\\n            \"c\": \"Arthur Samuel\",\\n            \"d\": \"Donald Hebb\"\\n        },\\n        \"correct\": \"c\"\\n    },\\n    \"3\": {\\n        \"mcq\": \"Which of the following is a subset of machine learning?\",\\n        \"options\": {\\n            \"a\": \"Artificial intelligence\",\\n            \"b\": \"Deep learning\",\\n            \"c\": \"Data mining\",\\n            \"d\": \"Predictive analytics\"\\n        },\\n        \"correct\": \"b\"\\n    }\\n}\\n```\\n\\nThe updated Question 2 now focuses on the contribution rather than the term, making it more accessible.'}"
      ]
     },
     "execution_count": 26,
     "metadata": {},
     "output_type": "execute_result"
    }
   ],
   "source": [
    "response"
   ]
  },
  {
   "cell_type": "code",
   "execution_count": 36,
   "id": "d8f2ac5f",
   "metadata": {},
   "outputs": [],
   "source": [
    "quiz = response['quiz'].strip().strip('```json').strip('```').strip()\n"
   ]
  },
  {
   "cell_type": "code",
   "execution_count": 39,
   "id": "8df08297",
   "metadata": {},
   "outputs": [],
   "source": [
    "quiz=json.loads(quiz)  # Assuming quiz is a JSON string, convert it to a Python dictionary\n"
   ]
  },
  {
   "cell_type": "code",
   "execution_count": 40,
   "id": "122660e0",
   "metadata": {},
   "outputs": [],
   "source": [
    "quiz_table_data=[]\n",
    "for key, value in quiz.items():\n",
    "    mcq = value['mcq']\n",
    "    options = \"|\".join([f\"{option}: {option_value}\" for option, option_value in value['options'].items()])\n",
    "\n",
    "    correct = value['correct']\n",
    "    quiz_table_data.append({\n",
    "        \"MCQ\": mcq,\n",
    "        \"Choices\": options,\n",
    "        \"Correct\": correct})"
   ]
  },
  {
   "cell_type": "code",
   "execution_count": 41,
   "id": "5cbbd197",
   "metadata": {},
   "outputs": [
    {
     "data": {
      "text/plain": [
       "[{'MCQ': 'What is the primary focus of machine learning?',\n",
       "  'Choices': 'a: To create symbolic AI systems|b: To develop statistical algorithms that learn from data|c: To replace human intelligence|d: To build expert systems',\n",
       "  'Correct': 'b'},\n",
       " {'MCQ': \"Who coined the term 'machine learning'?\",\n",
       "  'Choices': 'a: Alan Turing|b: Geoffrey Hinton|c: Arthur Samuel|d: Donald Hebb',\n",
       "  'Correct': 'c'},\n",
       " {'MCQ': 'Which of the following is a subset of machine learning?',\n",
       "  'Choices': 'a: Artificial intelligence|b: Deep learning|c: Data mining|d: Predictive analytics',\n",
       "  'Correct': 'b'}]"
      ]
     },
     "execution_count": 41,
     "metadata": {},
     "output_type": "execute_result"
    }
   ],
   "source": [
    "quiz_table_data"
   ]
  },
  {
   "cell_type": "code",
   "execution_count": 43,
   "id": "e8db8b87",
   "metadata": {},
   "outputs": [],
   "source": [
    "quiz=pd.DataFrame(quiz_table_data)  # Convert the list of dictionaries to a DataFrame"
   ]
  },
  {
   "cell_type": "code",
   "execution_count": 44,
   "id": "c6be1c5d",
   "metadata": {},
   "outputs": [],
   "source": [
    "quiz.to_csv(\"quiz.csv\", index=False)  # Save the DataFrame to a CSV file"
   ]
  }
 ],
 "metadata": {
  "kernelspec": {
   "display_name": "Python 3",
   "language": "python",
   "name": "python3"
  },
  "language_info": {
   "codemirror_mode": {
    "name": "ipython",
    "version": 3
   },
   "file_extension": ".py",
   "mimetype": "text/x-python",
   "name": "python",
   "nbconvert_exporter": "python",
   "pygments_lexer": "ipython3",
   "version": "3.8.20"
  }
 },
 "nbformat": 4,
 "nbformat_minor": 5
}
